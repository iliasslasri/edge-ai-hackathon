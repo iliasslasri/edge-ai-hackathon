{
 "cells": [
  {
   "cell_type": "code",
   "execution_count": 9,
   "metadata": {},
   "outputs": [],
   "source": [
    "from transformers import AutoModel\n",
    "from transformers import GPT2Tokenizer\n",
    "from langchain_community.llms import Ollama\n",
    "from langchain_core.prompts import SystemMessagePromptTemplate\n",
    "from langchain_core.prompts import HumanMessagePromptTemplate\n",
    "from langchain_core.prompts import PromptTemplate"
   ]
  },
  {
   "cell_type": "code",
   "execution_count": 10,
   "metadata": {},
   "outputs": [],
   "source": [
    "tokenizer = GPT2Tokenizer.from_pretrained(\"gpt2\")"
   ]
  },
  {
   "cell_type": "code",
   "execution_count": 11,
   "metadata": {},
   "outputs": [],
   "source": [
    "def load_llama3() -> Ollama:\n",
    "    \"\"\"\n",
    "    Load the LLAMA3 model from OLLAMA.\n",
    "    \"\"\"\n",
    "\n",
    "    ollama_client = Ollama(base_url=\"http://localhost:11434\", model=\"llama3\")\n",
    "\n",
    "    system_message = (\n",
    "        \"\"\"You are an intelligent scheduling assistant. Your job is to convert short, informal instructions into polite and professional messages that can be sent directly to the recipient to request a service or schedule an appointment. \n",
    "    \n",
    "    Analyze the input to extract key details:\n",
    "     - Time and date of the meeting or service.\n",
    "     - Recipient type (e.g., barber, doctor, restaurant, etc.).\n",
    "     - Service requested (if provided).\n",
    "\n",
    "    Construct a polite and concise message based on this information. The tone should be courteous and professional.\n",
    "\n",
    "    Examples:\n",
    "    Input: 3PM today barber\n",
    "    Output: Hi, I would like to schedule a haircut appointment today at 3 PM. Is this time available?\n",
    "    Input: 5 PM tomorrow Italian restaurant for 2\n",
    "    Output: Hello, I’d like to reserve a table for two at your Italian restaurant tomorrow at 5 PM. Is that possible?\n",
    "    Input: 9 AM dentist next Tuesday\n",
    "    Output: Good morning, I’d like to schedule a dental appointment next Tuesday at 9 AM. Does that work for your schedule?\n",
    "\n",
    "    Guidelines:\n",
    "    If the input does not specify all details, make a general inquiry.\n",
    "\n",
    "    For example:\n",
    "    Input: Barber appointment\n",
    "    Output: Hello, I’d like to book a haircut appointment. What times are available?\n",
    "    Always keep the tone polite and professional.\"\"\"\n",
    "    )\n",
    "\n",
    "    SystemMessagePromptTemplate(\n",
    "        prompt=PromptTemplate(\n",
    "            input_variables=[],  # No input variables for the system message\n",
    "            template=system_message,\n",
    "        )\n",
    "    )\n",
    "    HumanMessagePromptTemplate(\n",
    "        prompt=PromptTemplate(input_variables=[\"input\"], template=\"{input}\")\n",
    "    )\n",
    "\n",
    "    return ollama_client"
   ]
  },
  {
   "cell_type": "code",
   "execution_count": 14,
   "metadata": {},
   "outputs": [],
   "source": [
    "def generate_answer_ollama(\n",
    "    input_text: str\n",
    ") -> str:\n",
    "    \"\"\"\n",
    "    Generate a summary for a given text using the OLLAMA model.\n",
    "    \"\"\"\n",
    "\n",
    "    ollama_model = load_llama3()\n",
    "    prompt = f\"\\n\\nInput: {input_text}\\n\\nConstruct a polite and concise message based on this information.\\n\\nOutput:\"\n",
    "\n",
    "    response = ollama_model(prompt)\n",
    "\n",
    "    return response"
   ]
  },
  {
   "cell_type": "code",
   "execution_count": 15,
   "metadata": {},
   "outputs": [
    {
     "data": {
      "text/plain": [
       "'\"Hey! I was thinking we could grab a drink together between 2am and 3pm tomorrow. Would love to catch up with you then!\"'"
      ]
     },
     "execution_count": 15,
     "metadata": {},
     "output_type": "execute_result"
    }
   ],
   "source": [
    "generate_answer_ollama(\"Between 2AM and 3PM tomorrow, Drink with Nico.\")"
   ]
  },
  {
   "cell_type": "code",
   "execution_count": 16,
   "metadata": {},
   "outputs": [
    {
     "data": {
      "text/plain": [
       "'\"Hello, I\\'d like to reserve a table for lunch at an Italian restaurant that can accommodate 8 people. Could you please let me know if that\\'s feasible and if so, what time slots are available? Thank you!\"'"
      ]
     },
     "execution_count": 16,
     "metadata": {},
     "output_type": "execute_result"
    }
   ],
   "source": [
    "generate_answer_ollama(\"lunch italian restaurant 8 people\")"
   ]
  },
  {
   "cell_type": "code",
   "execution_count": null,
   "metadata": {},
   "outputs": [],
   "source": []
  }
 ],
 "metadata": {
  "kernelspec": {
   "display_name": ".venv",
   "language": "python",
   "name": "python3"
  },
  "language_info": {
   "codemirror_mode": {
    "name": "ipython",
    "version": 3
   },
   "file_extension": ".py",
   "mimetype": "text/x-python",
   "name": "python",
   "nbconvert_exporter": "python",
   "pygments_lexer": "ipython3",
   "version": "3.11.10"
  }
 },
 "nbformat": 4,
 "nbformat_minor": 2
}
